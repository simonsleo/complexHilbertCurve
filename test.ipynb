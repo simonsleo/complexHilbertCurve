{
 "cells": [
  {
   "cell_type": "code",
   "execution_count": 1,
   "metadata": {
    "collapsed": false
   },
   "outputs": [
    {
     "name": "stderr",
     "output_type": "stream",
     "text": [
      "D:\\python\\Anaconda2\\lib\\site-packages\\matplotlib\\__init__.py:1401: UserWarning:  This call to matplotlib.use() has no effect\n",
      "because the backend has already been chosen;\n",
      "matplotlib.use() must be called *before* pylab, matplotlib.pyplot,\n",
      "or matplotlib.backends is imported for the first time.\n",
      "\n",
      "  warnings.warn(_use_error_msg)\n"
     ]
    }
   ],
   "source": [
    "import matplotlib\n",
    "#matplotlib.use('Agg')\n",
    "import matplotlib.backends.backend_pdf as pltBack\n",
    "import matplotlib.lines as lines\n",
    "import matplotlib.patches as patches\n",
    "import matplotlib.pyplot as plt\n",
    "import numpy\n",
    "from optparse import OptionParser\n",
    "import os\n",
    "import sys\n",
    "import complexHilbertCurve"
   ]
  },
  {
   "cell_type": "code",
   "execution_count": 4,
   "metadata": {
    "collapsed": false
   },
   "outputs": [],
   "source": [
    "##---------------d2xy_ab------------------------\n",
    "def hcindex2xy_ab(N,hcindex):\n",
    "\n",
    "    assert(hcindex <= N**2 - 1)\n",
    "    positions = ([0,0],[1,0],[1,1],[0,1]) #tuple\n",
    "\n",
    "    #The last two corresponds to which point of posotions\n",
    "    last2bits     = hcindex & 3\n",
    "    cor_position  = positions[last2bits]\n",
    "    x = cor_position[0]\n",
    "    y = cor_position[1]\n",
    "\n",
    "    subsuqarebits = hcindex>>2 # cooresponding to the subsuqare\n",
    "    m = 4 # because the first four points have been given,so start from 4\n",
    "    while(m <= N):\n",
    "          m2 = m/2\n",
    "          case = subsuqarebits & 3 # take the last two bits\n",
    "    # in the  quadrant named zero,do flip\n",
    "          if case == 0:\n",
    "              tmp = x\n",
    "              x   = y\n",
    "              y   = tmp\n",
    "    # in the quadrant named one,do transformation\n",
    "          elif case == 1:\n",
    "              x   = x + m2 # keep x unchanged\n",
    "    # in the quadrant named two,do another transformation\n",
    "          elif case == 2:\n",
    "              x  = x + m2\n",
    "              y  = y + m2\n",
    "    # in the quadrant named three, do rotation around y=-x and transformation\n",
    "          elif case == 3:\n",
    "              temp = y\n",
    "              y    = m2 -1-x\n",
    "              x    = m2 -1-temp\n",
    "              y    = y + m2\n",
    "    # default case\n",
    "          else:\n",
    "              print 'The last2bits:',case,' is not anyone of [0,1,2,3]'\n",
    "              sys.exit('last2bits error')\n",
    "\n",
    "          subsuqarebits = subsuqarebits>>2 # case /=4,remove the last two bits\n",
    "          m   *= 2 # iteration,grow 2 times on one direction\n",
    "    return x,y\n",
    "#################################################\n",
    "\n",
    "#-------------------hcindex2xy_ba------------------------------------\n",
    "def hcindex2xy_ba(n,hcindex):\n",
    "    x,y = hcindex2xy_ab(n,n**2-1-hcindex)\n",
    "    y   = -y #force the vertex B to be (0,0) by reflecting\n",
    "    return x,y\n",
    "########################################################################\n",
    "def hcindex2xy_dc(n,hcindex):\n",
    "    x,y = hcindex2xy_ab(n,hcindex)\n",
    "    x   = -x # reflect about the axial AB,x = 0\n",
    "    return x,y\n"
   ]
  },
  {
   "cell_type": "code",
   "execution_count": 5,
   "metadata": {
    "collapsed": false
   },
   "outputs": [],
   "source": [
    "N=3\n",
    "n=2**N\n",
    "x = numpy.zeros(n**2, dtype=numpy.int16)\n",
    "y = numpy.zeros(n**2, dtype=numpy.int16)"
   ]
  },
  {
   "cell_type": "code",
   "execution_count": 6,
   "metadata": {
    "collapsed": true
   },
   "outputs": [],
   "source": [
    "for i in xrange(0, n**2):\n",
    "       x[i],y[i] =hcindex2xy_ab(n,i)"
   ]
  },
  {
   "cell_type": "code",
   "execution_count": 8,
   "metadata": {
    "collapsed": false
   },
   "outputs": [
    {
     "data": {
      "text/plain": [
       "<matplotlib.text.Text at 0x7e1fe48>"
      ]
     },
     "execution_count": 8,
     "metadata": {},
     "output_type": "execute_result"
    }
   ],
   "source": [
    "plt.subplot(221)\n",
    "plt.plot(x, y)\n",
    "plt.title('AB')\n"
   ]
  },
  {
   "cell_type": "code",
   "execution_count": 10,
   "metadata": {
    "collapsed": false
   },
   "outputs": [
    {
     "data": {
      "text/plain": [
       "<matplotlib.text.Text at 0x7f6ea20>"
      ]
     },
     "execution_count": 10,
     "metadata": {},
     "output_type": "execute_result"
    }
   ],
   "source": [
    "xx = numpy.zeros(n**2,dtype=numpy.int16)\n",
    "yy = numpy.zeros(n**2,dtype=numpy.int16) \n",
    "for i in xrange(0,n**2):\n",
    "    xx[i],yy[i]=hcindex2xy_ba(n,i)\n",
    "plt.subplot(222)\n",
    "plt.plot(xx,yy)\n",
    "plt.title('BA')\n"
   ]
  },
  {
   "cell_type": "code",
   "execution_count": 11,
   "metadata": {
    "collapsed": false
   },
   "outputs": [
    {
     "data": {
      "text/plain": [
       "<matplotlib.text.Text at 0x80d0630>"
      ]
     },
     "execution_count": 11,
     "metadata": {},
     "output_type": "execute_result"
    }
   ],
   "source": [
    "xxx = numpy.zeros(n**2,dtype=numpy.int16)\n",
    "yyy = numpy.zeros(n**2,dtype=numpy.int16) \n",
    "for i in xrange(0,n**2):\n",
    "    xxx[i],yyy[i]=hcindex2xy_dc(n,i)\n",
    "plt.subplot(223)\n",
    "plt.plot(xxx,yyy)\n",
    "plt.title('DC')"
   ]
  },
  {
   "cell_type": "code",
   "execution_count": 12,
   "metadata": {
    "collapsed": false
   },
   "outputs": [
    {
     "data": {
      "image/png": "[encoded data removed]",
      "text/plain": [
       "<matplotlib.figure.Figure at 0x4bcdbe0>"
      ]
     },
     "metadata": {},
     "output_type": "display_data"
    }
   ],
   "source": [
    "plt.show()"
   ]
  },
  {
   "cell_type": "code",
   "execution_count": null,
   "metadata": {
    "collapsed": true
   },
   "outputs": [],
   "source": []
  }
 ],
 "metadata": {
  "kernelspec": {
   "display_name": "Python [default]",
   "language": "python",
   "name": "python2"
  },
  "language_info": {
   "codemirror_mode": {
    "name": "ipython",
    "version": 2
   },
   "file_extension": ".py",
   "mimetype": "text/x-python",
   "name": "python",
   "nbconvert_exporter": "python",
   "pygments_lexer": "ipython2",
   "version": "2.7.12"
  }
 },
 "nbformat": 4,
 "nbformat_minor": 2
}
