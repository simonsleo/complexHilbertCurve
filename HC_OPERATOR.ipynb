{
 "cells": [
  {
   "cell_type": "code",
   "execution_count": 2,
   "metadata": {
    "collapsed": false
   },
   "outputs": [
    {
     "ename": "IndentationError",
     "evalue": "expected an indented block (<ipython-input-2-e4faaf538aa2>, line 51)",
     "output_type": "error",
     "traceback": [
      "\u001b[0;36m  File \u001b[0;32m\"<ipython-input-2-e4faaf538aa2>\"\u001b[0;36m, line \u001b[0;32m51\u001b[0m\n\u001b[0;31m    \"\"\"\u001b[0m\n\u001b[0m       \n^\u001b[0m\n\u001b[0;31mIndentationError\u001b[0m\u001b[0;31m:\u001b[0m expected an indented block\n"
     ]
    }
   ],
   "source": [
    "##---------------d2xy_ab------------------------\n",
    "def hcindex2xy_ab(N,hcindex):\n",
    "\n",
    "    assert(hcindex <= N**2 - 1)\n",
    "    positions = ([0,0],[1,0],[1,1],[0,1]) #tuple\n",
    "\n",
    "    #The last two corresponds to which point of posotions\n",
    "    last2bits     = hcindex & 3\n",
    "    cor_position  = positions[last2bits]\n",
    "    x = cor_position[0]\n",
    "    y = cor_position[1]\n",
    "\n",
    "    subsuqarebits = hcindex>>2 # cooresponding to the subsuqare\n",
    "    m = 4 # because the first four points have been given,so start from 4\n",
    "    while(m <= N):\n",
    "          m2 = m/2\n",
    "          case = subsuqarebits & 3 # take the last two bits\n",
    "    # in the  quadrant named zero,do flip\n",
    "          if case == 0:\n",
    "              tmp = x\n",
    "              x   = y\n",
    "              y   = tmp\n",
    "    # in the quadrant named one,do transformation\n",
    "          elif case == 1:\n",
    "              x   = x + m2 # keep x unchanged\n",
    "    # in the quadrant named two,do another transformation\n",
    "          elif case == 2:\n",
    "              x  = x + m2\n",
    "              y  = y + m2\n",
    "    # in the quadrant named three, do rotation around y=-x and transformation\n",
    "          elif case == 3:\n",
    "              temp = y\n",
    "              y    = m2 -1-x\n",
    "              x    = m2 -1-temp\n",
    "              y    = y + m2\n",
    "    # default case\n",
    "          else:\n",
    "              print 'The last2bits:',case,' is not anyone of [0,1,2,3]'\n",
    "              sys.exit('last2bits error')\n",
    "\n",
    "          subsuqarebits = subsuqarebits>>2 # case /=4,remove the last two bits\n",
    "          m   *= 2 # iteration,grow 2 times on one direction\n",
    "    return x,y\n",
    "#################################################\n",
    "\n",
    "##-------------------hcindex2xy_ba------------------------------------\n",
    "def hcindex2xy_ba(n,hcindex):\n",
    "\"\"\"\n",
    "the  hcindex2xy_ba can be obtained by reversing the operator hcindex2xy_ab,\n",
    "according to the symmetry of hilbert curve\n",
    "\"\"\"\n",
    "    x,y = hcindex2xy_ab(n,4**n-1-hcindex)\n",
    "    y   = -y #force the vertex B to be (0,0) by reflecting\n",
    "    return x,y\n",
    "########################################################################"
   ]
  },
  {
   "cell_type": "code",
   "execution_count": null,
   "metadata": {
    "collapsed": true
   },
   "outputs": [],
   "source": []
  }
 ],
 "metadata": {
  "kernelspec": {
   "display_name": "Python [default]",
   "language": "python",
   "name": "python2"
  },
  "language_info": {
   "codemirror_mode": {
    "name": "ipython",
    "version": 2
   },
   "file_extension": ".py",
   "mimetype": "text/x-python",
   "name": "python",
   "nbconvert_exporter": "python",
   "pygments_lexer": "ipython2",
   "version": "2.7.12"
  }
 },
 "nbformat": 4,
 "nbformat_minor": 2
}
