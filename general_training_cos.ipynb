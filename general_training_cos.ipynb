{
 "cells": [
  {
   "cell_type": "code",
   "execution_count": 1,
   "metadata": {
    "collapsed": false
   },
   "outputs": [
    {
     "data": {
      "image/png": "[encoded data removed]",
      "text/plain": [
       "<matplotlib.figure.Figure at 0x7a23c50>"
      ]
     },
     "metadata": {},
     "output_type": "display_data"
    },
    {
     "name": "stderr",
     "output_type": "stream",
     "text": [
      "D:\\python\\Anaconda2\\lib\\site-packages\\matplotlib\\pyplot.py:524: RuntimeWarning: More than 20 figures have been opened. Figures created through the pyplot interface (`matplotlib.pyplot.figure`) are retained until explicitly closed and may consume too much memory. (To control this warning, see the rcParam `figure.max_open_warning`).\n",
      "  max_open_warning, RuntimeWarning)\n"
     ]
    }
   ],
   "source": [
    "import hcindex2xy as hc\n",
    "import matplotlib\n",
    "import matplotlib.backends.backend_pdf as pltBack\n",
    "import matplotlib.lines as lines\n",
    "import matplotlib.patches as patches\n",
    "import matplotlib.pyplot as plt\n",
    "import numpy as np\n",
    "from optparse import OptionParser\n",
    "import os\n",
    "import sys\n",
    "import timeserieprocess as tsp\n",
    "import timeserieprocess_matrix as tspm\n",
    "import timeserieprocess_matrix_outfile_training as tspmot\n",
    "import Multiple_Level_Snake_Hilbert as mh\n",
    "\n",
    "#-------------Hilber curve -------------------\n",
    "rr,cc=mh.level_two(3)\n",
    "\n",
    "\n",
    "t = np.arange(1024)\n",
    "t = np.array(t)\n",
    "#y = np.zeros((65536,), dtype=float64)\n",
    "mu    = 0.0\n",
    "sigma = 0.5\n",
    "# Gaussian noise,mean and standard deviation\n",
    "weight = 1.0\n",
    "frequency = 143\n",
    "#----------------------------\n",
    "#prefix = \"testing_dataset\\cos\"+str(frequency)+\"\\cos\"+str(frequency)+\"_test_\"\n",
    "prefix = \"training_dataset\\cos\"+str(frequency)+\"\\cos\"+str(frequency)+\"_\"\n",
    "suffix = \".data\"\n",
    "i=0\n",
    "for nn in xrange(0,500):\n",
    "\n",
    "    #y = np.sin(2.0*np.pi*t/32)+weight*np.random.normal(mu,sigma,len(t))\n",
    "    #y= t/1024.0*3.0-1.5\n",
    "    y = np.cos(2.0*np.pi*t/frequency)+weight*np.random.normal(mu,sigma,len(t))\n",
    "    #plt.plot(y[:60])\n",
    "    filename = prefix+str(nn+1000)\n",
    "    datafile = filename+'.dat'\n",
    "    headtitle = '# cos-Function Plus Noise sigma: '+str(sigma)+\",frequency:\"+str(frequency)\n",
    "    np.savetxt(filename+'.dat',np.transpose([t,y]),fmt=['%g','%3.8f'], delimiter=\"  \",header=headtitle,comments='#time amplitude')\n",
    "\n",
    "    #--------------------------------\n",
    "    imagefile = filename+'.png'\n",
    "    kk = tspmot.processFile(datafile,32,1024,0,rr,cc,imagefile)\n",
    "    \n",
    "    \n",
    "    #-----------------testing dataset-----------------------------\n",
    "\n",
    "#----------------------------\n",
    "prefix = \"testing_dataset\\cos\"+str(frequency)+\"\\cos\"+str(frequency)+\"_test_\"\n",
    "#prefix = \"training_dataset\\cos\"+str(frequency)+\"\\cos\"+str(frequency)+\"_\"\n",
    "\n",
    "for nn in xrange(0,500):\n",
    "\n",
    "    #y = np.sin(2.0*np.pi*t/32)+weight*np.random.normal(mu,sigma,len(t))\n",
    "    #y= t/1024.0*3.0-1.5\n",
    "    y = np.cos(2.0*np.pi*t/frequency)+weight*np.random.normal(mu,sigma,len(t))\n",
    "    #plt.plot(y[:60])\n",
    "    filename = prefix+str(nn+1000)\n",
    "    datafile = filename+'.dat'\n",
    "    headtitle = '# cos-Function Plus Noise sigma: '+str(sigma)+\",frequency:\"+str(frequency)\n",
    "    np.savetxt(filename+'.dat',np.transpose([t,y]),fmt=['%g','%3.8f'], delimiter=\"  \",header=headtitle,comments='#time amplitude')\n",
    "\n",
    "    #--------------------------------\n",
    "    imagefile = filename+'.png'\n",
    "    kk = tspmot.processFile(datafile,32,1024,0,rr,cc,imagefile)\n"
   ]
  },
  {
   "cell_type": "code",
   "execution_count": null,
   "metadata": {
    "collapsed": true
   },
   "outputs": [],
   "source": []
  }
 ],
 "metadata": {
  "kernelspec": {
   "display_name": "Python [default]",
   "language": "python",
   "name": "python2"
  },
  "language_info": {
   "codemirror_mode": {
    "name": "ipython",
    "version": 2
   },
   "file_extension": ".py",
   "mimetype": "text/x-python",
   "name": "python",
   "nbconvert_exporter": "python",
   "pygments_lexer": "ipython2",
   "version": "2.7.12"
  }
 },
 "nbformat": 4,
 "nbformat_minor": 2
}
