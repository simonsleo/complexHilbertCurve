{
 "cells": [
  {
   "cell_type": "code",
   "execution_count": 1,
   "metadata": {
    "collapsed": false
   },
   "outputs": [],
   "source": [
    "import hcindex2xy as hc\n",
    "import matplotlib\n",
    "import matplotlib.backends.backend_pdf as pltBack\n",
    "import matplotlib.lines as lines\n",
    "import matplotlib.patches as patches\n",
    "import matplotlib.pyplot as plt\n",
    "import numpy\n",
    "from optparse import OptionParser\n",
    "import os\n",
    "import sys"
   ]
  },
  {
   "cell_type": "code",
   "execution_count": 2,
   "metadata": {
    "collapsed": false
   },
   "outputs": [
    {
     "data": {
      "text/plain": [
       "<matplotlib.text.Text at 0x7ef7160>"
      ]
     },
     "execution_count": 2,
     "metadata": {},
     "output_type": "execute_result"
    }
   ],
   "source": [
    "N=3\n",
    "n=2**N\n",
    "x = numpy.zeros(n**2, dtype=numpy.int16)\n",
    "y = numpy.zeros(n**2, dtype=numpy.int16)\n",
    "for i in xrange(0, n**2):\n",
    "       x[i],y[i] =hc.hcindex2xy_ab(n,i)\n",
    "plt.subplot(221)\n",
    "plt.plot(x, y)\n",
    "plt.title('AB')"
   ]
  },
  {
   "cell_type": "code",
   "execution_count": 3,
   "metadata": {
    "collapsed": false
   },
   "outputs": [
    {
     "data": {
      "image/png": "[encoded data removed]",
      "text/plain": [
       "<matplotlib.figure.Figure at 0x7dbdd68>"
      ]
     },
     "metadata": {},
     "output_type": "display_data"
    }
   ],
   "source": [
    "plt.show()"
   ]
  },
  {
   "cell_type": "code",
   "execution_count": 4,
   "metadata": {
    "collapsed": false
   },
   "outputs": [
    {
     "data": {
      "text/plain": [
       "<matplotlib.text.Text at 0x7f696a0>"
      ]
     },
     "execution_count": 4,
     "metadata": {},
     "output_type": "execute_result"
    }
   ],
   "source": [
    "N=3\n",
    "n=2**N\n",
    "x = numpy.zeros(n**2, dtype=numpy.int16)\n",
    "y = numpy.zeros(n**2, dtype=numpy.int16)\n",
    "for i in xrange(0, n**2):\n",
    "       x[i],y[i] =hc.hcindex2xy_ba(n,i)\n",
    "plt.subplot(222)\n",
    "plt.plot(x, y)\n",
    "plt.title('ba')"
   ]
  },
  {
   "cell_type": "code",
   "execution_count": 5,
   "metadata": {
    "collapsed": false
   },
   "outputs": [
    {
     "data": {
      "image/png": "[encoded data removed]",
      "text/plain": [
       "<matplotlib.figure.Figure at 0x8126208>"
      ]
     },
     "metadata": {},
     "output_type": "display_data"
    }
   ],
   "source": [
    "plt.show()"
   ]
  },
  {
   "cell_type": "code",
   "execution_count": 6,
   "metadata": {
    "collapsed": false
   },
   "outputs": [
    {
     "data": {
      "image/png": "[encoded data removed]",
      "text/plain": [
       "<matplotlib.figure.Figure at 0x4b02b70>"
      ]
     },
     "metadata": {},
     "output_type": "display_data"
    }
   ],
   "source": [
    "xx = numpy.zeros(n**2, dtype=numpy.int16)\n",
    "yy = numpy.zeros(n**2, dtype=numpy.int16)\n",
    "for i in xrange(0, n**2):\n",
    "       xx[i],yy[i] =hc.hcindex2xy_ad(n,i)\n",
    "plt.subplot(223)\n",
    "plt.plot(xx, yy)\n",
    "plt.title('ad')\n",
    "plt.show()"
   ]
  },
  {
   "cell_type": "code",
   "execution_count": 7,
   "metadata": {
    "collapsed": false
   },
   "outputs": [
    {
     "data": {
      "image/png": "[encoded data removed]",
      "text/plain": [
       "<matplotlib.figure.Figure at 0x830f0f0>"
      ]
     },
     "metadata": {},
     "output_type": "display_data"
    }
   ],
   "source": [
    "xx = numpy.zeros(n**2, dtype=numpy.int16)\n",
    "yy = numpy.zeros(n**2, dtype=numpy.int16)\n",
    "for i in xrange(0, n**2):\n",
    "       xx[i],yy[i] =hc.hcindex2xy_da(n,i)\n",
    "plt.subplot(224)\n",
    "plt.plot(xx, yy)\n",
    "plt.title('DA')\n",
    "plt.show()"
   ]
  },
  {
   "cell_type": "code",
   "execution_count": 8,
   "metadata": {
    "collapsed": false
   },
   "outputs": [
    {
     "data": {
      "image/png": "[encoded data removed]",
      "text/plain": [
       "<matplotlib.figure.Figure at 0x8378828>"
      ]
     },
     "metadata": {},
     "output_type": "display_data"
    }
   ],
   "source": [
    "xx = numpy.zeros(n**2, dtype=numpy.int16)\n",
    "yy = numpy.zeros(n**2, dtype=numpy.int16)\n",
    "for i in xrange(0, n**2):\n",
    "       xx[i],yy[i] =hc.hcindex2xy_dc(n,i)\n",
    "plt.subplot(221)\n",
    "plt.plot(xx, yy)\n",
    "plt.title('DC')\n",
    "plt.show()"
   ]
  },
  {
   "cell_type": "code",
   "execution_count": 9,
   "metadata": {
    "collapsed": false
   },
   "outputs": [
    {
     "data": {
      "image/png": "[encoded data removed]",
      "text/plain": [
       "<matplotlib.figure.Figure at 0x8133828>"
      ]
     },
     "metadata": {},
     "output_type": "display_data"
    }
   ],
   "source": [
    "xx = numpy.zeros(n**2, dtype=numpy.int16)\n",
    "yy = numpy.zeros(n**2, dtype=numpy.int16)\n",
    "for i in xrange(0, n**2):\n",
    "       xx[i],yy[i] =hc.hcindex2xy_cd(n,i)\n",
    "plt.subplot(221)\n",
    "plt.plot(xx, yy)\n",
    "plt.title('CD')\n",
    "plt.show()"
   ]
  },
  {
   "cell_type": "code",
   "execution_count": 10,
   "metadata": {
    "collapsed": false
   },
   "outputs": [
    {
     "data": {
      "image/png": "[encoded data removed]",
      "text/plain": [
       "<matplotlib.figure.Figure at 0x8305e80>"
      ]
     },
     "metadata": {},
     "output_type": "display_data"
    }
   ],
   "source": [
    "xx = numpy.zeros(n**2, dtype=numpy.int16)\n",
    "yy = numpy.zeros(n**2, dtype=numpy.int16)\n",
    "for i in xrange(0, n**2):\n",
    "       xx[i],yy[i] =hc.hcindex2xy_bc(n,i)\n",
    "plt.subplot(221)\n",
    "plt.plot(xx, yy)\n",
    "plt.title('BC')\n",
    "plt.show()"
   ]
  },
  {
   "cell_type": "code",
   "execution_count": 11,
   "metadata": {
    "collapsed": false
   },
   "outputs": [
    {
     "data": {
      "image/png": "[encoded data removed]",
      "text/plain": [
       "<matplotlib.figure.Figure at 0x8264e80>"
      ]
     },
     "metadata": {},
     "output_type": "display_data"
    }
   ],
   "source": [
    "xx = numpy.zeros(n**2, dtype=numpy.int16)\n",
    "yy = numpy.zeros(n**2, dtype=numpy.int16)\n",
    "for i in xrange(0, n**2):\n",
    "       xx[i],yy[i] =hc.hcindex2xy_cb(n,i)\n",
    "plt.subplot(221)\n",
    "plt.plot(xx, yy)\n",
    "plt.title('CB')\n",
    "plt.show()"
   ]
  },
  {
   "cell_type": "code",
   "execution_count": 12,
   "metadata": {
    "collapsed": false
   },
   "outputs": [
    {
     "data": {
      "image/png": "[encoded data removed]",
      "text/plain": [
       "<matplotlib.figure.Figure at 0x84adac8>"
      ]
     },
     "metadata": {},
     "output_type": "display_data"
    }
   ],
   "source": [
    "m=2\n",
    "n_cell=2**m\n",
    "mm = n_cell*n_cell\n",
    "\n",
    "n=2**(m+1)\n",
    "\n",
    "xx = numpy.zeros(n**2, dtype=numpy.int16)\n",
    "yy = numpy.zeros(n**2, dtype=numpy.int16)\n",
    "\n",
    "#------------AB----------\n",
    "for i in xrange(0, mm):\n",
    "       xx[i],yy[i] =hc.hcindex2xy_ab(n_cell,i)\n",
    "                                                                                                                                                                                                                                                                                                                                                                                                                                                                                                                                                                                                                                                                                                                                                                                                                                                                                                                                                                                                                                                                                                                                                                                                                                                                                                                                                                                                                                                                                                                                                                                                                                                             \n",
    "#----------AD-------------\n",
    "for i in xrange(0, mm):\n",
    "       ii = i+mm\n",
    "       xx[ii],yy[ii] =hc.hcindex2xy_ad(n_cell,i)\n",
    "       yy[ii] +=n_cell\n",
    "        \n",
    "#----------AD-------------\n",
    "for i in xrange(0, mm):\n",
    "       ii = i+2*mm\n",
    "       xx[ii],yy[ii] =hc.hcindex2xy_ad(n_cell,i)\n",
    "       yy[ii] +=n_cell\n",
    "       xx[ii] +=n_cell\n",
    "#----------BC-------------\n",
    "for i in xrange(0, mm):\n",
    "       ii =i+3*mm\n",
    "       xx[ii],yy[ii] =hc.hcindex2xy_cb(n_cell,i)\n",
    "       yy[ii] +=(n_cell-1)\n",
    "       xx[ii] +=2*n_cell-1\n",
    "plt.plot(xx, yy)\n",
    "plt.title('HilbertCurve')\n",
    "plt.show()\n",
    "        "
   ]
  },
  {
   "cell_type": "code",
   "execution_count": 13,
   "metadata": {
    "collapsed": false
   },
   "outputs": [
    {
     "data": {
      "image/png": "[encoded data removed]",
      "text/plain": [
       "<matplotlib.figure.Figure at 0x839cc88>"
      ]
     },
     "metadata": {},
     "output_type": "display_data"
    }
   ],
   "source": [
    "xx = numpy.zeros(n**2, dtype=numpy.int16)\n",
    "yy = numpy.zeros(n**2, dtype=numpy.int16)\n",
    "for i in xrange(0, n**2):\n",
    "       xx[i],yy[i] =hc.hcindex2xy_ac(n,i)\n",
    "plt.subplot(221)\n",
    "plt.plot(xx, yy)\n",
    "plt.title('AC')\n",
    "plt.show()"
   ]
  },
  {
   "cell_type": "code",
   "execution_count": 14,
   "metadata": {
    "collapsed": false
   },
   "outputs": [
    {
     "data": {
      "image/png": "[encoded data removed]",
      "text/plain": [
       "<matplotlib.figure.Figure at 0x85c07b8>"
      ]
     },
     "metadata": {},
     "output_type": "display_data"
    }
   ],
   "source": [
    "xx = numpy.zeros(n**2, dtype=numpy.int16)\n",
    "yy = numpy.zeros(n**2, dtype=numpy.int16)\n",
    "for i in xrange(0, n**2):\n",
    "       xx[i],yy[i] =hc.hcindex2xy_ca(n,i)\n",
    "plt.subplot(221)\n",
    "plt.plot(xx, yy)\n",
    "plt.title('CA')\n",
    "plt.show()"
   ]
  },
  {
   "cell_type": "code",
   "execution_count": 15,
   "metadata": {
    "collapsed": false
   },
   "outputs": [
    {
     "data": {
      "image/png": "[encoded data removed]",
      "text/plain": [
       "<matplotlib.figure.Figure at 0x8f4c0f0>"
      ]
     },
     "metadata": {},
     "output_type": "display_data"
    }
   ],
   "source": [
    "xx = numpy.zeros(n**2, dtype=numpy.int16)\n",
    "yy = numpy.zeros(n**2, dtype=numpy.int16)\n",
    "for i in xrange(0, n**2):\n",
    "       xx[i],yy[i] =hc.hcindex2xy_bd(n,i)\n",
    "plt.subplot(221)\n",
    "plt.plot(xx, yy)\n",
    "plt.title('BD')\n",
    "plt.show()"
   ]
  },
  {
   "cell_type": "code",
   "execution_count": 16,
   "metadata": {
    "collapsed": false
   },
   "outputs": [
    {
     "data": {
      "image/png": "[encoded data removed]",
      "text/plain": [
       "<matplotlib.figure.Figure at 0x9054a58>"
      ]
     },
     "metadata": {},
     "output_type": "display_data"
    }
   ],
   "source": [
    "xx = numpy.zeros(n**2, dtype=numpy.int16)\n",
    "yy = numpy.zeros(n**2, dtype=numpy.int16)\n",
    "for i in xrange(0, n**2):\n",
    "       xx[i],yy[i] =hc.hcindex2xy_db(n,i)\n",
    "plt.subplot(221)\n",
    "plt.plot(xx, yy)\n",
    "plt.title('DB')\n",
    "plt.show()"
   ]
  },
  {
   "cell_type": "code",
   "execution_count": 17,
   "metadata": {
    "collapsed": false
   },
   "outputs": [
    {
     "data": {
      "image/png": "[encoded data removed]",
      "text/plain": [
       "<matplotlib.figure.Figure at 0x9353d68>"
      ]
     },
     "metadata": {},
     "output_type": "display_data"
    }
   ],
   "source": [
    "m=3\n",
    "n_cell=2**m\n",
    "mm = n_cell*n_cell\n",
    "\n",
    "n=2**(m+1)\n",
    "\n",
    "xx = numpy.zeros(n**2, dtype=numpy.int16)\n",
    "yy = numpy.zeros(n**2, dtype=numpy.int16)\n",
    "\n",
    "#------------BA----------\n",
    "for i in xrange(0, mm):\n",
    "       xx[i],yy[i] =hc.hcindex2xy_ba(n_cell,i)\n",
    "                                                                                                                                                                                                                                                                                                                                                                                                                                                                                                                                                                                                                                                                                                                                                                                                                                                                                                                                                                                                                                                                                                                                                                                                                                                                                                                                                                                                                                                                                                                                                                                                                                                             \n",
    "#----------BD-------------\n",
    "for i in xrange(0, mm):\n",
    "       ii = i+mm\n",
    "       xx[ii],yy[ii] =hc.hcindex2xy_bd(n_cell,i)\n",
    "       yy[ii] +=(-n_cell)\n",
    "        \n",
    "#----------AC-------------\n",
    "for i in xrange(0, mm):\n",
    "       ii = i+2*mm\n",
    "       xx[ii],yy[ii] =hc.hcindex2xy_ac(n_cell,i)\n",
    "       yy[ii] +=(-2*n_cell+1)\n",
    "       xx[ii] +=n_cell\n",
    "#----------DA-------------\n",
    "for i in xrange(0, mm):\n",
    "       ii =i+3*mm\n",
    "       xx[ii],yy[ii] =hc.hcindex2xy_da(n_cell,i)\n",
    "       yy[ii] +=(-n_cell+1)\n",
    "       xx[ii] +=2*n_cell-1\n",
    "plt.plot(xx, yy)\n",
    "plt.title('HilbertCurve_sample1')\n",
    "plt.show()\n"
   ]
  },
  {
   "cell_type": "markdown",
   "metadata": {},
   "source": [
    "##  sample1 \n",
    "The left boundary has some problems,where locates in the first block (BA type)"
   ]
  },
  {
   "cell_type": "code",
   "execution_count": null,
   "metadata": {
    "collapsed": true
   },
   "outputs": [],
   "source": []
  }
 ],
 "metadata": {
  "kernelspec": {
   "display_name": "Python [default]",
   "language": "python",
   "name": "python2"
  },
  "language_info": {
   "codemirror_mode": {
    "name": "ipython",
    "version": 2
   },
   "file_extension": ".py",
   "mimetype": "text/x-python",
   "name": "python",
   "nbconvert_exporter": "python",
   "pygments_lexer": "ipython2",
   "version": "2.7.12"
  }
 },
 "nbformat": 4,
 "nbformat_minor": 2
}
